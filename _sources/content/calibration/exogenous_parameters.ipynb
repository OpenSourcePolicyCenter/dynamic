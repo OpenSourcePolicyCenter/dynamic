{
 "cells": [
  {
   "cell_type": "markdown",
   "metadata": {},
   "source": [
    "(glue)=\n",
    "(Chap_Exog)=\n",
    "# Exogenous Parameters\n",
    "\n",
    "\n",
    "In this chapter, list the exogenous inputs to the model, options, and where the values come from (weak calibration vs. strong calibration). Point to the respective chapters for some of the inputs. Mention the code \\texttt{parameters.py}.\n",
    "\n",
    "  List all the exogenous parameters that are outputs of the model here."
   ]
  },
  {
   "cell_type": "code",
   "execution_count": null,
   "metadata": {
    "tags": [
     "hide-cell"
    ]
   },
   "outputs": [],
   "source": [
    "from myst_nb import glue\n",
    "import ogusa.parameter_tables as pt\n",
    "from ogusa import Specifications\n",
    "p = Specifications()\n",
    "table = pt.param_table(p, table_format=None, path=None)\n",
    "glue(\"param_table\", table, display=False)"
   ]
  },
  {
   "cell_type": "markdown",
   "metadata": {},
   "source": [
    "```{glue:figure} param_table\n",
    ":figwidth: 600px\n",
    ":name: \"TabExogVars\"\n",
    "\n",
    "List of exogenous parameters and baseline calibration values.\n",
    "```\n",
    "\n",
    "  <!-- \\begin{table}[htbp] \\centering \\captionsetup{width=4.7in}\n",
    "    \\caption{\\label{TabExogVars}\\textbf{List of exogenous parameters and baseline calibration values}}\n",
    "      \\begin{threeparttable}\n",
    "      \\begin{tabular}{>{\\footnotesize}c |>{\\footnotesize}l |>{\\footnotesize}c}\n",
    "        \\hline\\hline\n",
    "        Symbol & \\multicolumn{1}{c}{\\footnotesize{Description}} & Value \\\\\n",
    "        \\hline\n",
    "        $S$ & Maximum periods in economically active & 80 \\\\[-1.5mm]\n",
    "        & \\quad household life & \\\\\n",
    "        $E$ & Number of periods of youth economically & $\\text{round}\\left(\\frac{S}{4}\\right)=20$ \\\\[-1.5mm]\n",
    "        & \\quad outside the model & \\\\\n",
    "        $R$ & Retirement age (period) & $E+\\text{round}\\left(\\frac{9}{16}S\\right)=65$ \\\\\n",
    "        $T_1$ & Number of periods to steady state for initial & 160 \\\\[-1.5mm]\n",
    "        & \\quad time path guesses & \\\\\n",
    "        $T_2$ & Maximum number of periods to steady state & 160 \\\\[-1.5mm]\n",
    "        & \\quad for nonsteady-state equilibrium & \\\\\n",
    "        $\\nu$ & Dampening parameter for TPI & 0.4 \\\\\n",
    "        \\hline\n",
    "        $\\{\\{\\omega_{s,0}\\}_{s=1}^{E+S}\\}_{t=0}^{T_2+S-1}$ & Initial population distribution by age & (see Ch. {ref}`Chap_Demog`) \\\\\n",
    "        $\\{f_s\\}_{s=1}^{E+S}$ & Fertility rates by age & (see Sec. {ref}`SecDemogFert`) \\\\\n",
    "        $\\{i_s\\}_{s=1}^{E+S}$ & Immigration rates by age & (see Sec. {ref}`SecDemogMort`) \\\\\n",
    "        $\\{\\rho_s\\}_{s=0}^{E+S}$ & Mortality rates by age & (see Sec. {ref}`SecDemogImm`) \\\\\n",
    "\n",
    "        % $\\boldsymbol{\\hat{\\Gamma}}_1$ & Initial distribution of savings & $\\boldsymbol{\\bar{\\Gamma}}$ \\\\\n",
    "\n",
    "        % $\\{e_{j,s}\\}_{j,s=1}^{J,S}$ & Deterministic ability process & (see \\citealp{DEMPRW2015}) \\\\\n",
    "        % $\\{\\lambda_j\\}_{j=1}^J$ & Lifetime income group percentages & $[0.25,0.25,0.20,0.10,0.10,0.09,0.01]$ \\\\\n",
    "        % $J$ & Number of lifetime income groups & 7 \\\\\n",
    "\n",
    "        % \\hline\n",
    "        % $\\tilde{l}$ & Maximum hours of labor supply & 1 \\\\\n",
    "        % $\\beta$ & Discount factor & $(0.96)^\\frac{80}{S}$ \\\\\n",
    "        % $\\sigma$ & Coefficient of constant relative risk aversion & 1.5 \\\\\n",
    "        % $b$ & Scale parameter in utility of leisure & 0.573 \\\\\n",
    "        % $\\upsilon$ & Shape parameter in utility of leisure & 2.856 \\\\\n",
    "        % $\\chi^n_s$ & Disutility of labor level parameters & [19.041, 76.623] \\\\\n",
    "        % $\\chi^b_j$ & Utility of bequests level parameters &  $[9.264 \\times 10^{-5}, 118,648]$ \\\\ %$1.0 \\ \\forall j$ \\\\\n",
    "        % \\hline\n",
    "        % $Z$ & Level parameter in production function & 1.0 \\\\\n",
    "        % $\\alpha$ & Capital share of income & 0.35 \\\\\n",
    "        % $\\delta$ & Capital depreciation rate & $1-(1-0.05)^\\frac{80}{S}=0.05$ \\\\\n",
    "        % $g_y$ & Growth rate of labor augmenting & $(1+0.03)^\\frac{80}{S}-1 = 0.03$ \\\\[-2mm]\n",
    "        % & \\quad technological progress & \\\\\n",
    "        % \\hline\n",
    "\n",
    "        \\hline\\hline\n",
    "      \\end{tabular}\n",
    "      \\end{threeparttable}\n",
    "    \\end{table} -->\n",
    "\n",
    "<div id=\"TabExogVars\">\n",
    "\n",
    "|                                                        Symbol                                                        |                                               |                       Value                       |\n",
    "|:--------------------------------------------------------------------------------------------------------------------:|:----------------------------------------------|:-------------------------------------------------:|\n",
    "|                                                         *S*                                                          | Maximum periods in economically active        |                        80                         |\n",
    "|                                                                                                                      | household life                                |                                                   |\n",
    "|                                                         *E*                                                          | Number of periods of youth economically       |   $\\\\text{round}\\\\left(\\\\frac{S}{4}\\\\right)=20$   |\n",
    "|                                                                                                                      | outside the model                             |                                                   |\n",
    "|                                                         *R*                                                          | Retirement age (period)                       | $E+\\\\text{round}\\\\left(\\\\frac{9}{16}S\\\\right)=65$ |\n",
    "|                                                   *T*<sub>1</sub>                                                    | Number of periods to steady state for initial |                        160                        |\n",
    "|                                                                                                                      | time path guesses                             |                                                   |\n",
    "|                                                   *T*<sub>2</sub>                                                    | Maximum number of periods to steady state     |                        160                        |\n",
    "|                                                                                                                      | for nonsteady-state equilibrium               |                                                   |\n",
    "|                                                         *ν*                                                          | Dampening parameter for TPI                   |                        0.4                        |\n",
    "| {{*ω*<sub>*s*, 0</sub>}<sub>*s* = 1</sub><sup>*E* + *S*</sup>}<sub>*t* = 0</sub><sup>*T*<sub>2</sub> + *S* − 1</sup> | Initial population distribution by age        |                 (see Ch. ref‘Chap                 |\n",
    "|                              {*f*<sub>*s*</sub>}<sub>*s* = 1</sub><sup>*E* + *S*</sup>                               | Fertility rates by age                        |           (see Sec. ref‘SecDemogFert‘)            |\n",
    "|                              {*i*<sub>*s*</sub>}<sub>*s* = 1</sub><sup>*E* + *S*</sup>                               | Immigration rates by age                      |           (see Sec. ref‘SecDemogMort‘)            |\n",
    "|                              {*ρ*<sub>*s*</sub>}<sub>*s* = 0</sub><sup>*E* + *S*</sup>                               | Mortality rates by age                        |            (see Sec. ref‘SecDemogImm‘)            |\n",
    "\n",
    "<span id=\"TabExogVars\" label=\"TabExogVars\">\\[TabExogVars\\]</span>**List\n",
    "of exogenous parameters and baseline calibration values**\n",
    "\n",
    "</div>"
   ]
  }
 ],
 "metadata": {
  "jupytext": {
   "text_representation": {
    "extension": ".md",
    "format_name": "myst",
    "format_version": "0.8",
    "jupytext_version": "1.4.1"
   }
  },
  "kernelspec": {
   "display_name": "Python 3",
   "language": "python",
   "name": "ogusa-dev"
  },
  "source_map": [
   12,
   24,
   32
  ]
 },
 "nbformat": 4,
 "nbformat_minor": 4
}